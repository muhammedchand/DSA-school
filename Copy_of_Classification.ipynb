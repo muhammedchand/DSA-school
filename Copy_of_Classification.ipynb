{
  "nbformat": 4,
  "nbformat_minor": 0,
  "metadata": {
    "kernelspec": {
      "display_name": "Python 3",
      "language": "python",
      "name": "python3"
    },
    "language_info": {
      "codemirror_mode": {
        "name": "ipython",
        "version": 3
      },
      "file_extension": ".py",
      "mimetype": "text/x-python",
      "name": "python",
      "nbconvert_exporter": "python",
      "pygments_lexer": "ipython3",
      "version": "3.6.9"
    },
    "colab": {
      "name": "Copy of Classification.ipynb",
      "provenance": [],
      "collapsed_sections": [
        "X8Ih10zlfzyf",
        "w0jlhSSdfzzF",
        "hGtxK78efzzP"
      ],
      "include_colab_link": true
    }
  },
  "cells": [
    {
      "cell_type": "markdown",
      "metadata": {
        "id": "view-in-github",
        "colab_type": "text"
      },
      "source": [
        "<a href=\"https://colab.research.google.com/github/muhammedchand/DSA-school/blob/master/Copy_of_Classification.ipynb\" target=\"_parent\"><img src=\"https://colab.research.google.com/assets/colab-badge.svg\" alt=\"Open In Colab\"/></a>"
      ]
    },
    {
      "cell_type": "code",
      "metadata": {
        "id": "Pll_Y-z-fzwM",
        "colab_type": "code",
        "colab": {}
      },
      "source": [
        "import numpy as np\n",
        "from matplotlib import pyplot as plt #plotting library (lets us draw graphs)\n",
        "%matplotlib inline\n",
        "from sklearn import datasets #the datasets from sklearn\n",
        "#classification libraries\n",
        "from sklearn import neighbors\n",
        "from sklearn import svm\n",
        "from sklearn import naive_bayes\n",
        "from sklearn import tree\n",
        "from sklearn import ensemble\n",
        "from sklearn import linear_model\n",
        "from sklearn.model_selection import cross_val_score\n",
        "\n",
        "#synthetic nutrition dataset\n",
        "zscore = np.array([0.5,0.3,-0.4,0.1,1.1,-0.1,0.9,-1.2,0.6,0.6,-1.0,0.1,1.2,0.4,-0.9,-0.2,-0.6,0.4,-0.7,0.1,0.1,0.2,-0.6,-1.0,1.4,-1.4,-0.0,0.6,0.0,-1.2,-0.3,-0.4,-1.2,-1.1,0.4,-0.1,1.1,-1.0,0.3,-1.1,1.2,-0.0,0.7,-0.4,1.0,-0.3,-0.5,0.1,-0.3,-0.5,-0.4,1.8,2.4,-0.6,0.0,-0.9,-1.0,0.4,2.7,-1.6,0.5,-0.3,0.2,-0.3,-0.2,-1.9,0.9,-0.5,-0.5,-1.0,1.2,-0.5,-3.0,-0.8,-2.2,-0.4,1.3,0.2,-0.6,0.1,1.2,1.1,0.0,0.4,0.7,1.0,-1.3,-0.6,-0.4,1.3,0.7,-1.0,0.4,0.3,-0.1,-1.4,1.5,0.3,1.4,-0.5,-0.8,0.7,-0.2,-0.1,-1.3,0.1,-0.4,1.0,-0.4,-0.1,1.7,0.4,-1.2,0.5,-1.0,-1.1,-1.1,-0.9,-0.8,0.9,-0.8,-0.1,-1.8,-0.3,-1.7,-0.7,-0.8,-0.6,0.2,0.3,-0.5,1.0,0.3,0.5,-1.4,0.6,0.8,0.1,-0.2,-0.1,0.9,0.4,-0.8,0.4,0.6,-0.7,1.1,-0.3,-0.3,-2.0,1.8,1.5,-1.5,0.2,0.3,2.1,0.3,-0.1,0.3,0.8,1.1,-0.1,0.8,-0.8,-0.6,0.8,-0.7,-1.5,-0.3,-0.4,1.1,0.2,0.3,-0.0,-1.1,0.1,0.1,-0.3,1.1,0.4,2.5,-1.5,0.2,1.0,-0.5,-0.2,0.0,-0.7,-1.6,-1.2,0.6,-0.2,0.4,-0.2,1.1,0.7,0.4,-0.3,-0.8,0.8])\n",
        "muac = np.array([90.3,109.9,112.2,117.0,108.4,109.7,110.5,93.8,85.0,112.4,104.7,104.0,112.1,103.1,107.1,100.1,108.7,104.7,85.9,105.4,100.0,107.1,114.1,97.9,107.5,95.1,108.0,113.5,103.8,90.3,113.2,80.1,81.0,75.6,92.5,92.0,113.1,100.9,105.8,64.5,108.6,97.8,107.9,96.2,113.8,103.8,90.4,92.1,93.8,88.6,115.3,129.0,132.4,89.6,96.1,101.6,83.3,105.9,123.1,89.6,90.6,100.7,86.9,123.6,105.9,102.7,113.1,106.1,103.0,93.1,119.4,83.5,70.5,82.1,76.8,97.3,102.1,103.7,107.4,99.1,104.1,119.7,95.9,97.4,102.3,111.5,94.2,84.5,89.4,118.3,111.4,78.4,94.1,108.1,97.8,71.0,121.4,100.7,107.2,91.9,91.1,106.7,104.9,98.7,102.6,91.2,96.0,108.3,89.8,108.1,105.1,109.6,94.3,106.7,79.7,75.6,89.8,98.9,90.5,93.9,101.5,94.0,60.1,109.2,103.6,87.7,95.9,78.6,101.7,83.2,87.4,97.1,102.4,114.6,78.5,102.2,108.2,107.4,96.0,105.7,99.3,104.5,84.3,108.8,108.7,104.4,115.5,91.2,94.5,91.0,127.5,122.9,70.1,99.9,113.3,117.3,99.7,102.4,90.1,122.7,104.3,103.4,116.7,86.1,94.5,112.2,88.0,82.4,98.5,107.0,104.2,92.8,107.2,97.9,65.9,89.9,86.1,111.2,112.9,82.9,128.4,82.4,105.3,107.4,74.0,104.1,92.5,98.2,84.6,76.3,111.3,101.5,111.3,100.0,104.6,117.4,99.7,114.2,108.9,121.9])\n",
        "cough = np.array([False,True,True,False,True,True,True,False,False,False,False,True,False,False,True,False,False,True,False,False,True,False,False,False,True,False,False,False,False,True,True,False,False,False,True,False,False,False,True,False,False,True,True,False,False,False,False,True,True,True,False,False,False,False,False,False,True,True,False,True,False,True,False,False,False,False,True,False,False,True,False,True,False,True,False,False,False,False,False,True,True,True,False,True,False,False,False,True,False,True,False,True,False,False,True,True,False,True,True,False,True,False,False,False,False,False,True,False,True,False,True,True,False,True,False,False,True,False,True,True,True,False,False,False,False,True,False,True,True,False,False,False,True,False,False,False,False,True,True,False,False,False,True,True,False,False,True,False,False,False,False,False,True,True,True,True,False,True,False,False,True,True,True,False,False,False,False,False,False,False,False,True,True,False,False,False,True,False,True,False,False,False,False,True,False,True,False,True,False,True,True,False,True,False,False,True,True,False,True,False])\n",
        "outpatient = np.array([True,False,False,True,False,False,False,False,True,True,False,False,True,True,False,True,True,False,False,True,False,True,True,False,True,False,True,True,True,False,False,False,False,False,False,False,True,False,False,False,True,False,False,False,True,True,False,False,False,False,True,True,True,False,True,False,False,False,True,False,True,False,False,True,True,False,False,False,True,False,True,False,False,False,False,False,True,True,True,False,False,True,True,False,True,True,False,False,False,True,True,False,True,True,False,False,True,False,True,False,False,True,True,True,False,True,False,True,False,True,True,False,False,False,False,False,False,False,False,False,False,True,False,True,False,False,False,False,False,True,False,True,False,True,False,True,True,False,False,True,True,True,False,False,True,False,True,True,False,False,True,True,False,False,False,True,True,False,True,True,False,False,False,False,False,True,False,False,True,True,True,False,False,True,False,True,False,True,True,True,True,False,True,False,False,False,True,False,False,False,False,True,False,True,True,False,False,True,False,True])"
      ],
      "execution_count": 1,
      "outputs": []
    },
    {
      "cell_type": "markdown",
      "metadata": {
        "id": "4gfduIOufzwe",
        "colab_type": "text"
      },
      "source": [
        "# Classification\n",
        "## Quick Detour, Nearest Neighbours\n",
        "\n",
        "Before we use Scikit Learn (a library for doing machine learning), we'll quickly look at how we might write a nearest neighbour classifier by hand.\n",
        "\n",
        "We concern ourselves with three arrays, the children's z-scores, their MUAC values and whether or not they are ok to just be treated as an outpatient. (so False = 'not ok, needs to be an inpatient', True = 'outpatient')\n",
        "\n",
        "We will use all but the last child to 'train' the nearest neighbour, and the last child to test it."
      ]
    },
    {
      "cell_type": "code",
      "metadata": {
        "id": "_ABAVCJ1fzwg",
        "colab_type": "code",
        "colab": {
          "base_uri": "https://localhost:8080/",
          "height": 388
        },
        "outputId": "0e114998-c6d4-4c7f-dbc6-0bd8f73df930"
      },
      "source": [
        "plt.figure(figsize=[8,6])\n",
        "plt.scatter(zscore[outpatient],muac[outpatient],20,'b',label=\"Outpatient\")\n",
        "plt.scatter(zscore[~outpatient],muac[~outpatient],20,'g',label=\"Inpatient\")\n",
        "plt.xlabel('Z score')\n",
        "plt.ylabel('MUAC / cm')\n",
        "plt.legend();"
      ],
      "execution_count": 2,
      "outputs": [
        {
          "output_type": "display_data",
          "data": {
            "image/png": "[encoded data removed]",
            "text/plain": [
              "<Figure size 576x432 with 1 Axes>"
            ]
          },
          "metadata": {
            "tags": [],
            "needs_background": "light"
          }
        }
      ]
    },
    {
      "cell_type": "markdown",
      "metadata": {
        "id": "mzHXCcr4fzwx",
        "colab_type": "text"
      },
      "source": [
        "Nearest neighbour simply involves calculating the **distance** from the test point, to all the training points. We can find the distance of a point $x_1, y_1$ from $x_2, y_2$ by using pythagoras: \n",
        "$$\\mathtt{distance} = \\sqrt{ (x_1-x_2)^2 + (y_1-y_2)^2}$$\n",
        "\n",
        "We can get the test point (the last point in the lists):"
      ]
    },
    {
      "cell_type": "code",
      "metadata": {
        "id": "KWy_v1vZfzwz",
        "colab_type": "code",
        "colab": {}
      },
      "source": [
        "test_zscore = zscore[-1] #in python the -1 index means the end of the list\n",
        "test_muac = muac[-1]\n",
        "test_outpatient = outpatient[-1]"
      ],
      "execution_count": 3,
      "outputs": []
    },
    {
      "cell_type": "markdown",
      "metadata": {
        "id": "ZBWKWWBwfzw8",
        "colab_type": "text"
      },
      "source": [
        "We need to loop through all the training inputs, and find the distance from each to the test point: We want to find the training point that's got the smallest distance to the test point."
      ]
    },
    {
      "cell_type": "code",
      "metadata": {
        "id": "HafySIJvfzw-",
        "colab_type": "code",
        "colab": {
          "base_uri": "https://localhost:8080/",
          "height": 1000
        },
        "outputId": "7287c30c-74ac-4463-a1b2-94242eca2044"
      },
      "source": [
        "smallest_distance = np.infty #this variable remembers the smallest distance that we've seen so far.\n",
        "result = np.NAN #this variable remembers the associated label for that training point.\n",
        "\n",
        "for child_zscore, child_muac, child_outpatient in zip(zscore[:-1],muac[:-1],outpatient[:-1]): #this means we loop through all but the last child\n",
        "    distance = np.sqrt((child_zscore - test_zscore)**2 + (child_muac - test_muac)**2) #get distance from test to muac\n",
        "    print(distance)\n",
        "    if distance<smallest_distance: #if it's the smallest distance we've seen, use it.\n",
        "        smallest_distance = distance #we update the smallest distance with this one\n",
        "        result = child_outpatient  #we make a note of the label of this training point\n",
        "        \n",
        "print(\"The algorithm predicts that the test point has a label: '%s'\" % result)\n",
        "print(\"The test point actually has label: '%s'\" % test_outpatient)"
      ],
      "execution_count": 16,
      "outputs": [
        {
          "output_type": "stream",
          "text": [
            "31.60142401854702\n",
            "12.010412149464313\n",
            "9.773944955850737\n",
            "4.949747468305838\n",
            "13.503332921912278\n",
            "12.233151678941942\n",
            "11.400438588054413\n",
            "28.171084466168505\n",
            "36.9005420014395\n",
            "9.502105029939418\n",
            "17.293929570806053\n",
            "17.913681921927726\n",
            "9.808159868191394\n",
            "18.804254837669067\n",
            "14.897315194356342\n",
            "21.822923727126952\n",
            "13.274034804836097\n",
            "17.204650534085257\n",
            "36.03123644839294\n",
            "16.514841809717705\n",
            "21.911184358678565\n",
            "14.812157169028431\n",
            "7.92464510246359\n",
            "24.067405344157894\n",
            "14.412494579357183\n",
            "26.8901468943552\n",
            "13.923002549737616\n",
            "8.402380615040009\n",
            "18.117670931993448\n",
            "31.66322788346129\n",
            "8.769264507357503\n",
            "41.81722133284325\n",
            "40.94887055829501\n",
            "46.338968482261244\n",
            "29.402720962523183\n",
            "29.913542083812146\n",
            "8.805112151472018\n",
            "21.077001684300356\n",
            "16.107762104029234\n",
            "57.43143738406693\n",
            "13.306013678032963\n",
            "24.113274352522104\n",
            "14.000357138301865\n",
            "25.728000310945276\n",
            "8.10246875958187\n",
            "18.133394607739618\n",
            "31.526813984289628\n",
            "29.808220342717554\n",
            "28.121522007174512\n",
            "33.32536571442241\n",
            "6.708203932499377\n",
            "7.170076708097335\n",
            "10.621205204683694\n",
            "32.33032632065443\n",
            "25.812400120872148\n",
            "20.371057900855334\n",
            "38.64194612076365\n",
            "16.004999218994048\n",
            "2.2472205054244174\n",
            "32.38904135660703\n",
            "31.301437666663183\n",
            "21.22851855405836\n",
            "35.0051424793558\n",
            "2.024845673131649\n",
            "16.0312195418814\n",
            "19.388914358467833\n",
            "8.800568163476731\n",
            "15.853390804493541\n",
            "18.944656238633634\n",
            "28.856195175386524\n",
            "2.5317977802344327\n",
            "38.42199890687626\n",
            "51.54027551342737\n",
            "39.83214782057328\n",
            "45.19966814037467\n",
            "24.62925090212856\n",
            "19.806312125178692\n",
            "18.209887424144064\n",
            "14.567429423202983\n",
            "22.81074308302999\n",
            "17.804493814764868\n",
            "2.2203603311174547\n",
            "26.012304780622575\n",
            "24.503265088555036\n",
            "19.600255100380718\n",
            "10.40192289915668\n",
            "27.779488836189916\n",
            "37.426194035728514\n",
            "32.522146300636436\n",
            "3.634556369077258\n",
            "10.50047617967871\n",
            "43.53722545133073\n",
            "27.8028775489157\n",
            "13.809055000252563\n",
            "24.116799124261917\n",
            "50.94752202021213\n",
            "0.8602325267042626\n",
            "21.205895406702357\n",
            "14.712239802287078\n",
            "30.028153456381563\n",
            "30.841530441921986\n",
            "15.20032894380908\n",
            "17.029386365926403\n",
            "23.217450333746815\n",
            "19.41391253714718\n",
            "30.707979419037002\n",
            "25.92778432492835\n",
            "13.601470508735451\n",
            "32.1224220755534\n",
            "13.829316685939343\n",
            "16.824089871371957\n",
            "12.306502346320837\n",
            "27.672368890284773\n",
            "15.202960238058905\n",
            "42.23837118071671\n",
            "46.338968482261244\n",
            "32.15618136533006\n",
            "23.06274051365102\n",
            "31.4407379048266\n",
            "28.000178570859152\n",
            "20.462648899885867\n",
            "27.914512354687485\n",
            "61.854668376768466\n",
            "12.747548783981966\n",
            "18.4699756361507\n",
            "34.232878932394804\n",
            "26.0491842482639\n",
            "43.322626882496415\n",
            "20.20890892651061\n",
            "38.70322983938163\n",
            "34.52448406565984\n",
            "24.80080643850116\n",
            "19.50640920313116\n",
            "7.306161783043144\n",
            "43.455724594119935\n",
            "19.701015202268135\n",
            "13.700000000000003\n",
            "14.516886718577094\n",
            "25.919297829995323\n",
            "16.224980739587956\n",
            "22.60022123785518\n",
            "17.404597093871498\n",
            "37.63402715628505\n",
            "13.106105447462271\n",
            "13.201515064567403\n",
            "17.564168070250297\n",
            "6.407027391856545\n",
            "30.71970051937356\n",
            "27.422071402430568\n",
            "31.02660148968946\n",
            "5.688585061331151\n",
            "1.2206555615733703\n",
            "51.8510366338032\n",
            "22.0081802973349\n",
            "8.614522621712718\n",
            "4.780167361086856\n",
            "22.2056299167576\n",
            "19.52075818199693\n",
            "31.803930574694704\n",
            "0.7999999999999972\n",
            "17.602556632489506\n",
            "18.521878954360975\n",
            "5.200000000000003\n",
            "35.83573635353403\n",
            "27.43574311003805\n",
            "9.700000000000003\n",
            "33.93316961322653\n",
            "39.566905362941895\n",
            "23.425840433162698\n",
            "14.948244044034073\n",
            "17.70254219031832\n",
            "29.106184909740414\n",
            "14.70850094333206\n",
            "24.013329631685814\n",
            "56.032222872200954\n",
            "32.00765533431026\n",
            "35.806842921430544\n",
            "10.756393447619889\n",
            "9.004998611882181\n",
            "39.002051228108506\n",
            "6.71863081289633\n",
            "39.566905362941895\n",
            "16.610839834276902\n",
            "14.50137924474772\n",
            "47.917637671320996\n",
            "17.828067758453255\n",
            "29.41088233970549\n",
            "23.747420912595963\n",
            "37.37713204621244\n",
            "45.64383857652641\n",
            "10.601886624558865\n",
            "20.42449509779863\n",
            "10.607544484940904\n",
            "21.922819161777536\n",
            "17.302600960549267\n",
            "4.50111097397076\n",
            "22.203603311174522\n",
            "7.778174593052025\n",
            "13.098091464026353\n",
            "The algorithm predicts that the test point has a label: 'True'\n",
            "The test point actually has label: 'True'\n"
          ],
          "name": "stdout"
        }
      ]
    },
    {
      "cell_type": "markdown",
      "metadata": {
        "id": "WqmZV213fzxH",
        "colab_type": "text"
      },
      "source": [
        "**Exercise 0**: What is the problem with finding the distance like this? (hint, think about how much MUAC and z-scores change). How can we adjust the data to avoid this problem? Hint: Plotting them against each other might help you see the problem, which we'll do later (exercise 7)."
      ]
    },
    {
      "cell_type": "code",
      "metadata": {
        "id": "HyDzOh8ufzxJ",
        "colab_type": "code",
        "colab": {
          "base_uri": "https://localhost:8080/",
          "height": 68
        },
        "outputId": "8eeab25e-73f7-43a3-c04a-ae8843815f7b"
      },
      "source": [
        " # Answer Distance isn't normalise\n",
        " print(\"Child score\", child_zscore)\n",
        " print(\"Child muac\", child_muac)\n",
        "distance\n"
      ],
      "execution_count": 15,
      "outputs": [
        {
          "output_type": "stream",
          "text": [
            "Child score -0.8\n",
            "Child muac 108.9\n"
          ],
          "name": "stdout"
        },
        {
          "output_type": "execute_result",
          "data": {
            "text/plain": [
              "13.098091464026353"
            ]
          },
          "metadata": {
            "tags": []
          },
          "execution_count": 15
        }
      ]
    },
    {
      "cell_type": "markdown",
      "metadata": {
        "id": "4Mn8e7KyfzxU",
        "colab_type": "text"
      },
      "source": [
        "We'll be revisiting this dataset later, but we now turn to the 'digits' dataset and scikit learn."
      ]
    },
    {
      "cell_type": "markdown",
      "metadata": {
        "id": "fDh7kE6lfzxW",
        "colab_type": "text"
      },
      "source": [
        "# Classification with Scikit Learn\n",
        "\n",
        "## The Digit Dataset\n",
        "\n",
        "For these classification examples we will be using scikit-learn, a toolkit for python that contains lots of methods for solving machine learning problems.\n",
        "\n",
        "It also contains some datasets we can try out. For this exercise we'll use the 'digit' dataset. This is a set of 1797 pictures of hand-drawn digits (0,1,2,3,4,5,6,7,8,9). The challenge is whether we can get the computer to learn what the digits look like, using a training set of images, and then test the computer on a test-set of images.\n",
        "\n",
        "Run the code below to load the digits dataset."
      ]
    },
    {
      "cell_type": "code",
      "metadata": {
        "id": "aP-PhE0CfzxX",
        "colab_type": "code",
        "colab": {}
      },
      "source": [
        "digits = datasets.load_digits() #load the digits into the variable 'digits'"
      ],
      "execution_count": null,
      "outputs": []
    },
    {
      "cell_type": "markdown",
      "metadata": {
        "id": "m_lQ3wG_fzxe",
        "colab_type": "text"
      },
      "source": [
        "To get an idea of the data we are going to be classifying we'll ask what shape the 'data' matrix is:"
      ]
    },
    {
      "cell_type": "code",
      "metadata": {
        "id": "Uj0VtHsXfzxg",
        "colab_type": "code",
        "colab": {}
      },
      "source": [
        "digits.data.shape"
      ],
      "execution_count": null,
      "outputs": []
    },
    {
      "cell_type": "markdown",
      "metadata": {
        "id": "_P97SbJffzxm",
        "colab_type": "text"
      },
      "source": [
        "This tells us that it has 1797 rows (which are the samples) and 64 columns (which are the 8x8 pixels in the data, and make up the 64 dimensions of the data set).\n",
        "\n",
        "We can have a look at just one sample. Here I'm using python's matrix 'slicing' notation. It means I want row 35 and all the columns from that row."
      ]
    },
    {
      "cell_type": "code",
      "metadata": {
        "id": "nC3LHcZDfzxo",
        "colab_type": "code",
        "colab": {}
      },
      "source": [
        "digits.data[35,:]"
      ],
      "execution_count": null,
      "outputs": []
    },
    {
      "cell_type": "markdown",
      "metadata": {
        "id": "d36EwEtTfzxv",
        "colab_type": "text"
      },
      "source": [
        "Each of these numbers is one of the pixels in the image.\n",
        "\n",
        "It's unclear what digit this image is of still.\n",
        "\n",
        "We can draw the numbers as pixels in an image to see what image this represents:"
      ]
    },
    {
      "cell_type": "code",
      "metadata": {
        "id": "Z3z__qGLfzxx",
        "colab_type": "code",
        "colab": {}
      },
      "source": [
        "#code to reshape the 64 numbers into an 8x8 matrix and then draw it\n",
        "plt.matshow(digits.data[35,:].reshape(8,8),cmap='gray') "
      ],
      "execution_count": null,
      "outputs": []
    },
    {
      "cell_type": "markdown",
      "metadata": {
        "id": "e92-g3p4fzx4",
        "colab_type": "text"
      },
      "source": [
        "It looks like a five!\n",
        "\n",
        "**Exercise 1:** Copy the code above into the box below, and modify it to find out what digit image 72 has inside"
      ]
    },
    {
      "cell_type": "code",
      "metadata": {
        "id": "5_hQTCtBfzx5",
        "colab_type": "code",
        "colab": {}
      },
      "source": [
        " \n",
        "#Exercise 1: Your code here!\n",
        "\n",
        "\n",
        "\n",
        "\n"
      ],
      "execution_count": null,
      "outputs": []
    },
    {
      "cell_type": "markdown",
      "metadata": {
        "id": "6EEJy2wSfzx_",
        "colab_type": "text"
      },
      "source": [
        "The problem is a **supervised** learning problem, which means we need to provide labels for our data points.\n",
        "\n",
        "The labels are also in the 'digits' object. They can be accessed using 'target':"
      ]
    },
    {
      "cell_type": "code",
      "metadata": {
        "id": "MtVYph4TfzyB",
        "colab_type": "code",
        "colab": {}
      },
      "source": [
        "digits.target[35]"
      ],
      "execution_count": null,
      "outputs": []
    },
    {
      "cell_type": "markdown",
      "metadata": {
        "id": "_ITl9lQ6fzyQ",
        "colab_type": "text"
      },
      "source": [
        "As suspected image 35 is of the digit '5'.\n",
        "\n",
        "**Exercise 2**: What is image 72 supposed to be? Copy and alter the code above to find out."
      ]
    },
    {
      "cell_type": "code",
      "metadata": {
        "id": "NEHVTGymfzyS",
        "colab_type": "code",
        "colab": {}
      },
      "source": [
        "\n",
        "#Exercise 2: Your code here!\n",
        "\n"
      ],
      "execution_count": null,
      "outputs": []
    },
    {
      "cell_type": "markdown",
      "metadata": {
        "id": "FnA89YR1fzyY",
        "colab_type": "text"
      },
      "source": [
        "**Exercise 3**: How many digits are of each type in the dataset?\n",
        "\n",
        "You can plot a histogram with the following code:\n",
        "\n",
        "    plt.hist(list_of_numbers,bins=range(11))\n",
        "    \n",
        "You'll need to replace \"list_of_numbers\" with the array you want to draw the histogram of.\n",
        "\n",
        "The bins parameter tells the function where to draw the boundaries of the graph. We want them at each integer.    "
      ]
    },
    {
      "cell_type": "code",
      "metadata": {
        "id": "AB4qnmBjfzyY",
        "colab_type": "code",
        "colab": {}
      },
      "source": [
        "\n",
        " #Your code here\n"
      ],
      "execution_count": null,
      "outputs": []
    },
    {
      "cell_type": "markdown",
      "metadata": {
        "id": "X8Ih10zlfzyf",
        "colab_type": "text"
      },
      "source": [
        "## Scikit Learn\n",
        "In the following we'll be using the scikit library to do the classification. We need to go through two steps: **training** (fitting) and **testing** (prediction)."
      ]
    },
    {
      "cell_type": "markdown",
      "metadata": {
        "id": "WDa7CRBgfzyh",
        "colab_type": "text"
      },
      "source": [
        "## Training\n",
        "\n",
        "First we need to pick some training data:"
      ]
    },
    {
      "cell_type": "code",
      "metadata": {
        "id": "hGNpy57Sfzyh",
        "colab_type": "code",
        "colab": {}
      },
      "source": [
        "training_data = digits.data[0:-10,:] #this means all but the last 10 rows should be put in training_data\n",
        "training_target = digits.target[0:-10] #this puts all but the last 10 elements of the labels (targets) into training_target\n",
        "\n",
        "#similarly this takes the last digit and puts that in test_data and test_target\n",
        "test_data = digits.data[-10:,:]\n",
        "test_target = digits.target[-10:]"
      ],
      "execution_count": null,
      "outputs": []
    },
    {
      "cell_type": "markdown",
      "metadata": {
        "id": "0xy2DE27fzym",
        "colab_type": "text"
      },
      "source": [
        "The training step is quite simple. Here we fit the model to the data."
      ]
    },
    {
      "cell_type": "code",
      "metadata": {
        "id": "ArIv4tg1fzyn",
        "colab_type": "code",
        "colab": {}
      },
      "source": [
        "nn = neighbors.KNeighborsClassifier(n_neighbors=1) #this is our model (with just one nearest neighbour)\n",
        "nn.fit(training_data,training_target); #fit our model to the training data"
      ],
      "execution_count": null,
      "outputs": []
    },
    {
      "cell_type": "markdown",
      "metadata": {
        "id": "_BWz6IO4fzyu",
        "colab_type": "text"
      },
      "source": [
        "We can then predict the results using the predict method"
      ]
    },
    {
      "cell_type": "code",
      "metadata": {
        "id": "f_jfCXWFfzyu",
        "colab_type": "code",
        "colab": {}
      },
      "source": [
        "nn.predict(test_data)"
      ],
      "execution_count": null,
      "outputs": []
    },
    {
      "cell_type": "markdown",
      "metadata": {
        "id": "lZIMeMTLfzyz",
        "colab_type": "text"
      },
      "source": [
        "How many of these were correct?"
      ]
    },
    {
      "cell_type": "code",
      "metadata": {
        "id": "HRmHn73Vfzy0",
        "colab_type": "code",
        "colab": {}
      },
      "source": [
        "test_target"
      ],
      "execution_count": null,
      "outputs": []
    },
    {
      "cell_type": "markdown",
      "metadata": {
        "id": "1j0Q6F6Tfzy5",
        "colab_type": "text"
      },
      "source": [
        "Remarkably the classifier has mostly got them correct.\n",
        "\n",
        "Below is the image that it misclassified"
      ]
    },
    {
      "cell_type": "code",
      "metadata": {
        "id": "hP1lboE1fzy7",
        "colab_type": "code",
        "colab": {}
      },
      "source": [
        "plt.matshow(test_data[3].reshape(8,8),cmap='gray') "
      ],
      "execution_count": null,
      "outputs": []
    },
    {
      "cell_type": "markdown",
      "metadata": {
        "id": "K-N8nO-Jfzy_",
        "colab_type": "text"
      },
      "source": [
        "**Exercise 4**: What was the image supposed to be, and what did the classifier think it was?"
      ]
    },
    {
      "cell_type": "code",
      "metadata": {
        "id": "7iQ25YTAfzzA",
        "colab_type": "code",
        "colab": {}
      },
      "source": [
        "\n",
        "#Exercise 4: Answer here\n",
        "\n",
        "\n",
        "\n"
      ],
      "execution_count": null,
      "outputs": []
    },
    {
      "cell_type": "markdown",
      "metadata": {
        "id": "w0jlhSSdfzzF",
        "colab_type": "text"
      },
      "source": [
        "## Cross-validation\n",
        "\n",
        "In the lecture I briefly mentioned leave-one-out cross-validation. The same sort of idea is called **k-fold cross-validation**. In this we split the dataset into *k* groups, and train on all but one, then test on the remaining one. Then repeat while leaving out a different group.\n",
        "\n",
        "I would recommend a quick read of the [sklearn cross-validation page](https://scikit-learn.org/stable/modules/cross_validation.html) which helps explain the reasoning behind cross-validation.\n",
        "\n",
        "\n",
        "**Exercise 5**: In the code below try different classifiers and see which one does best. Try modifying the parameters to see what effect they have (e.g. the number of neighbours). Put the cursor inside the parameter brackets (e.g. on the \"n_neighbors=1\") and press SHIFT-TAB a couple of times and a box will appear describing what the different parameters do.\n"
      ]
    },
    {
      "cell_type": "code",
      "metadata": {
        "id": "3B2ExLFwfzzJ",
        "colab_type": "code",
        "colab": {}
      },
      "source": [
        "#TODO: Uncomment one of these classifiers to see how it does\n",
        "\n",
        "#clf = tree.DecisionTreeClassifier()\n",
        "#clf = ensemble.RandomForestClassifier(n_estimators=50)\n",
        "#clf = ensemble.ExtraTreesClassifier()\n",
        "#clf = neighbors.KNeighborsClassifier(n_neighbors=1)\n",
        "#clf = svm.LinearSVC(C=0.0005) #Linear Support Vector Machine classifier\n",
        "#clf = linear_model.LogisticRegression(max_iter=1000)\n",
        "clf = naive_bayes.GaussianNB()\n",
        "\n",
        "scores = cross_val_score(clf, digits.data, digits.target, cv=5)\n",
        "print(\"Accuracy: %0.2f (+/- %0.2f)\" % (scores.mean(), scores.std() * 2))\n"
      ],
      "execution_count": null,
      "outputs": []
    },
    {
      "cell_type": "markdown",
      "metadata": {
        "id": "hGtxK78efzzP",
        "colab_type": "text"
      },
      "source": [
        "The nearest neighbour classifier did particularly well on the digits dataset. \n",
        "\n",
        "### Breast Cancer Dataset\n",
        "\n",
        "This is the wisconsin Breast Cancer dataset. It contains measurements of different cells, some of which are cancerous and some of which are not. It's been organised in the same way as before, with bc.data containing a matrix, each row is a cell, each column a feature."
      ]
    },
    {
      "cell_type": "code",
      "metadata": {
        "id": "80DnTbdifzzQ",
        "colab_type": "code",
        "colab": {}
      },
      "source": [
        "bc = datasets.load_breast_cancer()\n",
        "\n",
        "bc.data[4,:] #data from row number four."
      ],
      "execution_count": null,
      "outputs": []
    },
    {
      "cell_type": "markdown",
      "metadata": {
        "id": "RKGP5Z4DfzzV",
        "colab_type": "text"
      },
      "source": [
        "You can find out more by running this code:"
      ]
    },
    {
      "cell_type": "code",
      "metadata": {
        "id": "yX3m_P1BfzzW",
        "colab_type": "code",
        "colab": {}
      },
      "source": [
        "#print(bc['DESCR']) #uncomment and run to print a description of the dataset"
      ],
      "execution_count": null,
      "outputs": []
    },
    {
      "cell_type": "markdown",
      "metadata": {
        "id": "idc0E6YDfzzb",
        "colab_type": "text"
      },
      "source": [
        "**Exercise 6:** Quickly try out different classifiers for the breast cancer dataset. Do the same ones do as well? If not, why not?"
      ]
    },
    {
      "cell_type": "code",
      "metadata": {
        "id": "MCoTZa3Xfzzd",
        "colab_type": "code",
        "colab": {}
      },
      "source": [
        "#TODO: Uncomment one of these classifiers to see how it does\n",
        "#clf = tree.DecisionTreeClassifier()\n",
        "#clf = ensemble.RandomForestClassifier(n_estimators=50)\n",
        "#clf = ensemble.ExtraTreesClassifier()\n",
        "#clf = neighbors.KNeighborsClassifier(n_neighbors=1)\n",
        "#clf = svm.LinearSVC(C=0.0005) #Linear Support Vector Machine classifier\n",
        "#clf = linear_model.LogisticRegression(max_iter=1000)\n",
        "clf = naive_bayes.GaussianNB()\n",
        "\n",
        "scores = cross_val_score(clf, bc.data, bc.target, cv=5)\n",
        "\n",
        "print(\"Accuracy: %0.2f (+/- %0.2f)\" % (scores.mean(), scores.std() * 2))\n",
        "#print(\"Total: %d of %d correct (%0.2f%%)\" % (tally_correct, tally_total, 100.0*tally_correct/tally_total))"
      ],
      "execution_count": null,
      "outputs": []
    },
    {
      "cell_type": "markdown",
      "metadata": {
        "id": "VawOHDYcfzzg",
        "colab_type": "text"
      },
      "source": [
        "## The Nutrition (simulated) Dataset and Munging Data\n",
        "\n",
        "We often don't have data in quite the tidy format the above examples were in.\n",
        "\n",
        "As a reminder we want to guess whether a child will be ok as an outpatient or not, based on their MUAC and ZSCORE. outpatient is False if they need to be kept in and treated as an inpatient."
      ]
    },
    {
      "cell_type": "markdown",
      "metadata": {
        "id": "o0UslYmRfzzi",
        "colab_type": "text"
      },
      "source": [
        "**Exercise 7**: Plot the zscores against the MUAC values\n",
        "\n",
        "**Hint:** The command you want to use is:\n",
        "\n",
        "    plt.scatter(A,B,marker='x',c='r')\n",
        "    \n",
        "where A and B are the two lists you want to plot (so you'll need to replace them). The marker parameter is optional and lets you choose the symbol in your plot. The 'c' parameter lets you choose the colour.\n",
        "\n",
        "**Extra:** You'll notice the axes are different scales (the zscores vary less than the MUAC values). To get a better idea about this, we can ask python to plot them with equal scales. After your plot command, use this command to make them equal:\n",
        "\n",
        "    plt.axis('equal')"
      ]
    },
    {
      "cell_type": "code",
      "metadata": {
        "id": "hOJSw82bfzzj",
        "colab_type": "code",
        "colab": {}
      },
      "source": [
        "\n",
        " #Your code here!\n"
      ],
      "execution_count": null,
      "outputs": []
    },
    {
      "cell_type": "markdown",
      "metadata": {
        "id": "CK3jWMcvfzzo",
        "colab_type": "text"
      },
      "source": [
        "**Exercise 8**: Can we plot the two classes in different colours?\n",
        "\n",
        "Hint #1: First just try plotting the 'outpatient' children. You can get a smaller list, that just contains the ok children by selecting just the items from the lists where ok is True. This can be done with:\n",
        "\n",
        "    zscore[outpatient]\n",
        "    \n",
        "Hint #2: To list the inpatient children you can use the not-operator \"~\":\n",
        "\n",
        "    zscore[~outpatient]\n",
        "    \n",
        "Hint #3: To plot both outpatient and inpatient children, just call the scatter function twice (one after the other)"
      ]
    },
    {
      "cell_type": "code",
      "metadata": {
        "id": "j80gr2uSfzzp",
        "colab_type": "code",
        "colab": {}
      },
      "source": [
        "\n",
        " #Your code here"
      ],
      "execution_count": null,
      "outputs": []
    },
    {
      "cell_type": "markdown",
      "metadata": {
        "id": "oVJretgYfzzs",
        "colab_type": "text"
      },
      "source": [
        "Finally we want to try classifying the data. First we need to get it into the matrix form that we used earlier in the notebook.\n",
        "\n",
        "We need two matrices, one called 'data' and one called 'target'.\n",
        "\n",
        "'data' should be a matrix with 48 rows (for the 48 children) and two columns (for the two types of data: zscore and muac). We can combine matrices like this using numpy's vstack command.\n",
        "\n",
        "Here I've provided the code to do that for you. Much of doing data science is really about getting your data prepared into the right format and quality. The actually machine learning itself is often quite a small part of your work."
      ]
    },
    {
      "cell_type": "code",
      "metadata": {
        "id": "M0J_Au7xfzzt",
        "colab_type": "code",
        "colab": {}
      },
      "source": [
        "data = np.vstack([zscore,muac]).T #Here I combine the zscores and MUAC. # <<< Modify for exercise 9\n",
        "target = np.array([1 if k else 0 for k in outpatient])"
      ],
      "execution_count": null,
      "outputs": []
    },
    {
      "cell_type": "markdown",
      "metadata": {
        "id": "KFhGa5nEfzzx",
        "colab_type": "text"
      },
      "source": [
        "We can ask for the shape of the data matrix, so we can confirm we've got it in the correct shape: We have 48 children, and each one has two measurements."
      ]
    },
    {
      "cell_type": "code",
      "metadata": {
        "id": "Yu7jbz07fzzy",
        "colab_type": "code",
        "colab": {}
      },
      "source": [
        "data.shape"
      ],
      "execution_count": null,
      "outputs": []
    },
    {
      "cell_type": "code",
      "metadata": {
        "id": "l3o_Q_U6fzz2",
        "colab_type": "code",
        "colab": {}
      },
      "source": [
        "#TODO: Uncomment one of these classifiers to see how it does\n",
        "#clf = tree.DecisionTreeClassifier()\n",
        "#clf = ensemble.RandomForestClassifier(n_estimators=50)\n",
        "#clf = ensemble.ExtraTreesClassifier()\n",
        "#clf = neighbors.KNeighborsClassifier(n_neighbors=1)\n",
        "#clf = svm.LinearSVC(C=0.005) #Linear Support Vector Machine classifier\n",
        "clf = linear_model.LogisticRegression(max_iter=1000)\n",
        "\n",
        "#clf = naive_bayes.GaussianNB()\n",
        "\n",
        "scores = cross_val_score(clf, data,target, cv=5)\n",
        "\n",
        "print(\"Accuracy: %0.2f (+/- %0.2f)\" % (scores.mean(), scores.std() * 2))"
      ],
      "execution_count": null,
      "outputs": []
    },
    {
      "cell_type": "markdown",
      "metadata": {
        "id": "8Jz8C03Jfzz6",
        "colab_type": "text"
      },
      "source": [
        "We have also been given data about whether the child has a cough. Can we make use of this additional data to improve our predictions?\n",
        "\n",
        "The variable is called 'cough':"
      ]
    },
    {
      "cell_type": "code",
      "metadata": {
        "id": "sPDsNjRqfzz7",
        "colab_type": "code",
        "colab": {}
      },
      "source": [
        "cough[0:6]"
      ],
      "execution_count": null,
      "outputs": []
    },
    {
      "cell_type": "markdown",
      "metadata": {
        "id": "5ZJhcNDNfz0B",
        "colab_type": "text"
      },
      "source": [
        "To get a quick idea of if it's useful we can as for the confusion matrix, this counts the number of times both are true, one is true and one is false, vis-versa and when they are both false."
      ]
    },
    {
      "cell_type": "code",
      "metadata": {
        "id": "n0-kSj-yfz0B",
        "colab_type": "code",
        "colab": {}
      },
      "source": [
        "from sklearn.metrics import confusion_matrix\n",
        "confusion_matrix(outpatient,cough)"
      ],
      "execution_count": null,
      "outputs": []
    },
    {
      "cell_type": "markdown",
      "metadata": {
        "id": "v9hXjsp9fz0F",
        "colab_type": "text"
      },
      "source": [
        "The top row is the number of children that are outpatients help who have a cough (or not).\n",
        "The bottom row is the number of children who need to be inpatients who have a cough (or not).\n",
        "\n",
        "Over half the outpatient children don't have a cough, while about only 10% of the inpatient children don't have a cough.\n",
        "\n",
        "Clearly this variable will be very useful in our prediction."
      ]
    },
    {
      "cell_type": "markdown",
      "metadata": {
        "id": "StqPscbQfz0G",
        "colab_type": "text"
      },
      "source": [
        "**Exercise 9**: Modify the code above to include this extra variable. There is a hint in an earlier comment to help!"
      ]
    },
    {
      "cell_type": "code",
      "metadata": {
        "id": "AcHw5Uscfz0G",
        "colab_type": "code",
        "colab": {}
      },
      "source": [
        "\n",
        " #Modify code above\n",
        "\n"
      ],
      "execution_count": null,
      "outputs": []
    },
    {
      "cell_type": "markdown",
      "metadata": {
        "id": "Nm5l5yWDfz0K",
        "colab_type": "text"
      },
      "source": [
        "**Bonus Exercise**: Look at the other datasets in sklearn, and try out other classifiers on them. What datasets do you know of or have access to which might need classification?\n",
        "\n",
        "**Double Bonus Exercise**: Modify the classifier code above so that it tries different values of the neighbours parameter automatically, and returns the best value of that parameter.\n",
        "\n",
        "**Quick Quiz**\n",
        "\n",
        "How can we avoid 'cheating' when we fit (or 'train') our model?\n",
        "\n",
        "Name two types of classifier.\n",
        "\n",
        "What is overfitting?\n",
        "\n",
        "Name some features of a dataset which make one classifier work better than another?\n",
        "\n",
        "What is the difference between supervised and unsupervised learning?"
      ]
    },
    {
      "cell_type": "markdown",
      "metadata": {
        "id": "E_jtsjeMfz0K",
        "colab_type": "text"
      },
      "source": [
        "**Reminder**: The MUAC/zscore/cough data is *simulated*, but these decisions are real decisions. However, they are also heavily based on other clinical assessments of the child's health (including the precence of edema, HIV status, TB status, diarrhea, general overall wellness, etc)."
      ]
    },
    {
      "cell_type": "code",
      "metadata": {
        "id": "lwvB5o5kfz0L",
        "colab_type": "code",
        "colab": {}
      },
      "source": [
        ""
      ],
      "execution_count": null,
      "outputs": []
    }
  ]
}